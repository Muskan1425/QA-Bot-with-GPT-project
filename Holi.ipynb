{
  "nbformat": 4,
  "nbformat_minor": 0,
  "metadata": {
    "colab": {
      "provenance": [],
      "authorship_tag": "ABX9TyMF/pBjNLE79+ajAcMq5C8e",
      "include_colab_link": true
    },
    "kernelspec": {
      "name": "python3",
      "display_name": "Python 3"
    },
    "language_info": {
      "name": "python"
    }
  },
  "cells": [
    {
      "cell_type": "markdown",
      "metadata": {
        "id": "view-in-github",
        "colab_type": "text"
      },
      "source": [
        "<a href=\"https://colab.research.google.com/github/Muskan1425/streamlit-project/blob/main/Holi.ipynb\" target=\"_parent\"><img src=\"https://colab.research.google.com/assets/colab-badge.svg\" alt=\"Open In Colab\"/></a>"
      ]
    },
    {
      "cell_type": "code",
      "execution_count": 2,
      "metadata": {
        "colab": {
          "base_uri": "https://localhost:8080/"
        },
        "id": "8aDvsVKGvzus",
        "outputId": "5482b7c4-1be0-4ada-c5b3-fd591ae0ff2e"
      },
      "outputs": [
        {
          "output_type": "stream",
          "name": "stdout",
          "text": [
            "Enter your name: Muskan \n",
            "Happy Holi, Muskan ! May your life be filled with blue colors of joy and happiness.\n"
          ]
        }
      ],
      "source": [
        "import random\n",
        "\n",
        "colors = ['red', 'green', 'blue', 'yellow', 'pink', 'purple', 'orange']\n",
        "\n",
        "def generate_greeting(name):\n",
        "    color = random.choice(colors)\n",
        "    return f\"Happy Holi, {name}! May your life be filled with {color} colors of joy and happiness.\"\n",
        "\n",
        "name = input(\"Enter your name: \")\n",
        "greeting = generate_greeting(name)\n",
        "print(greeting)"
      ]
    },
    {
      "cell_type": "code",
      "source": [],
      "metadata": {
        "id": "y4n0gZB-v6u5"
      },
      "execution_count": null,
      "outputs": []
    }
  ]
}